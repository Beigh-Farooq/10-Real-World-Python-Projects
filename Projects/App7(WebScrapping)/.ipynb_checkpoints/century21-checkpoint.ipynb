{
 "cells": [
  {
   "cell_type": "code",
   "execution_count": 18,
   "id": "d79afbdc",
   "metadata": {},
   "outputs": [],
   "source": [
    "import requests\n",
    "from bs4 import BeautifulSoup\n",
    "\n",
    "r=requests.get(\"https://pythonizing.github.io/data/real-estate/rock-springs-wy/LCWYROCKSPRINGS/\")\n",
    "c=r.content\n",
    "\n",
    "soup=BeautifulSoup(c,\"html.parser\")\n",
    "#print(soup.prettify())\n",
    "\n",
    "all=soup.find_all(\"div\",{\"class\":\"propertyRow\"})\n",
    "#all[0].find(\"h4\",{\"class\":\"propPrice\"}).text.replace(\"\\n\",\"\").replace(\" \",\"\")\n"
   ]
  },
  {
   "cell_type": "code",
   "execution_count": 48,
   "id": "19d1b9ea",
   "metadata": {},
   "outputs": [
    {
     "ename": "SyntaxError",
     "evalue": "unmatched ')' (Temp/ipykernel_256/3667793866.py, line 7)",
     "output_type": "error",
     "traceback": [
      "\u001b[1;36m  File \u001b[1;32m\"C:\\Users\\Farooq\\AppData\\Local\\Temp/ipykernel_256/3667793866.py\"\u001b[1;36m, line \u001b[1;32m7\u001b[0m\n\u001b[1;33m    d[\"Beds\"]=item.find(\"span\",{\"class\",\"infoBed\"}.text))\u001b[0m\n\u001b[1;37m                                                        ^\u001b[0m\n\u001b[1;31mSyntaxError\u001b[0m\u001b[1;31m:\u001b[0m unmatched ')'\n"
     ]
    }
   ],
   "source": [
    "for item in all:\n",
    "    d={}\n",
    "    d[\"Price\"]=item.find(\"h4\",{\"class\",\"propPrice\"}).text.replace(\"\\n\",\"\").replace(\" \",\"\")\n",
    "    d[\"Address\"]=item.find_all(\"span\",{\"class\",\"propAddressCollapse\"})[0].text\n",
    "    d[\"Locality\"]=item.find_all(\"span\",{\"class\",\"propAddressCollapse\"})[1].text\n",
    "    try:\n",
    "          d[\"Beds\"]=item.find(\"span\",{\"class\",\"infoBed\"}.text)\n",
    "          \n",
    "    except:\n",
    "          d[\"Beds\"]=None\n",
    "    try:\n",
    "          d[\"Area\"]=item.find(\"span\",{\"class\",\"infosqft\"}).find(\"b\").text\n",
    "    except:\n",
    "          d[\"Area\"]=None\n",
    "    try:\n",
    "          d[\"Full Baths\"]=item.find(\"span\",{\"class\",\"infovaluefullBath\"}).find(\"b\").text\n",
    "    except:\n",
    "          d[\"Full Baths\"]=None\n",
    "    try:\n",
    "          d[\"Half Baths\"]=item.find(\"span\",{\"class\",\"infovalueHalfBath\"}).find(\"b\").text\n",
    "    except:\n",
    "          d[\"Half Baths\"]=None\n",
    "    \n",
    "    for column_group in item.find_all(\"div\",{\"class\": \"columnGroup\"}):\n",
    "          for feature_group,feature_name in zip(column_group.find_all(\"span\",{\"class\":featureGroup}),column_group.find_all(\"span\",{\"class\":\"featureName\"})):\n",
    "              if \"Lot Size\" in feature_group.text:\n",
    "                  print(feature_name.text)\n",
    "          \n",
    "    print(\" \")"
   ]
  },
  {
   "cell_type": "code",
   "execution_count": null,
   "id": "22241f92",
   "metadata": {},
   "outputs": [],
   "source": []
  },
  {
   "cell_type": "code",
   "execution_count": null,
   "id": "eb972a54",
   "metadata": {},
   "outputs": [],
   "source": []
  },
  {
   "cell_type": "code",
   "execution_count": null,
   "id": "c383b5ee",
   "metadata": {},
   "outputs": [],
   "source": []
  },
  {
   "cell_type": "code",
   "execution_count": null,
   "id": "e619ed6d",
   "metadata": {},
   "outputs": [],
   "source": []
  }
 ],
 "metadata": {
  "kernelspec": {
   "display_name": "Python 3 (ipykernel)",
   "language": "python",
   "name": "python3"
  },
  "language_info": {
   "codemirror_mode": {
    "name": "ipython",
    "version": 3
   },
   "file_extension": ".py",
   "mimetype": "text/x-python",
   "name": "python",
   "nbconvert_exporter": "python",
   "pygments_lexer": "ipython3",
   "version": "3.9.7"
  }
 },
 "nbformat": 4,
 "nbformat_minor": 5
}
